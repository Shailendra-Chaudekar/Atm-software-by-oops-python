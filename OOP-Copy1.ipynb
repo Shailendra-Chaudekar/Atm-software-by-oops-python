{
 "cells": [
  {
   "cell_type": "code",
   "execution_count": null,
   "id": "7682b9b0",
   "metadata": {},
   "outputs": [],
   "source": [
    "\n",
    "\n",
    "\n",
    "# Function vs methods\n",
    "# methods are functiions which are written inside a class where as function is not in class\n",
    "\n",
    "# len(L) this is function\n",
    "# L.append() this is method\n",
    "\n",
    "# special methods/magic metods/dunder method ex (__init__) : ye methods ko object call nahi karta"
   ]
  },
  {
   "cell_type": "markdown",
   "id": "3a9e559b",
   "metadata": {},
   "source": [
    "# Classes and Object"
   ]
  },
  {
   "cell_type": "code",
   "execution_count": 2,
   "id": "da7182d2",
   "metadata": {},
   "outputs": [],
   "source": [
    "# syntax to create an object\n",
    "# objectname = classname()\n",
    "L = list()\n",
    "s = str()"
   ]
  },
  {
   "cell_type": "code",
   "execution_count": 3,
   "id": "dfedf284",
   "metadata": {},
   "outputs": [],
   "source": [
    "# object literal\n",
    "L = [1,2,3]"
   ]
  },
  {
   "cell_type": "code",
   "execution_count": null,
   "id": "af06c857",
   "metadata": {},
   "outputs": [],
   "source": [
    "L."
   ]
  },
  {
   "cell_type": "code",
   "execution_count": null,
   "id": "88fb8c51",
   "metadata": {},
   "outputs": [],
   "source": [
    "s."
   ]
  },
  {
   "cell_type": "code",
   "execution_count": null,
   "id": "1716ce94",
   "metadata": {},
   "outputs": [],
   "source": [
    "# class name should be in PascalCase\n",
    "# HelloWorld"
   ]
  },
  {
   "cell_type": "code",
   "execution_count": 2,
   "id": "3515082a",
   "metadata": {},
   "outputs": [],
   "source": [
    "class Atm:\n",
    "    \n",
    "#     constructor is a special function to execute the code inside constructor there is no need to call it explisitly.\n",
    "    def __init__(self):\n",
    "        self.pin = ''\n",
    "        self.balance = 0\n",
    "        self.menu()\n",
    "        \n",
    "    def menu(self):\n",
    "        user_input = input('''\n",
    "        Welcome to ATM \n",
    "        How can I help You ?\n",
    "        1. Press 1 to Create Pin\n",
    "        2. Press 2 To change Pin\n",
    "        3. Press 3 to Check Balance\n",
    "        4. Press 4 to withdrawal\n",
    "        5. Press any to Exit.\n",
    "        ''')\n",
    "        if user_input == '1':\n",
    "            self.create_pin()\n",
    "        elif user_input == '2':\n",
    "            self.change_pin()\n",
    "        elif user_input == '3':\n",
    "            self.check_balance()\n",
    "        elif user_input == '4':\n",
    "            self.withdraw()\n",
    "        else:\n",
    "            exit()\n",
    "            \n",
    "    def create_pin(self):\n",
    "        user_pin = input('Enter new pin : ')\n",
    "        self.pin = user_pin\n",
    "        user_balance = int(input('Enter your Balance : '))\n",
    "        self.balance = user_balance\n",
    "        print('Pin created successfully !!')\n",
    "        self.menu()\n",
    "    \n",
    "    \n",
    "    def change_pin(self):\n",
    "        user_pin = input('Enter your pin : ')\n",
    "        if user_pin == self.pin:\n",
    "            new_pin = input('Enter new pin : ')\n",
    "            self.pin = new_pin\n",
    "            print('Pin changed successfully !!')\n",
    "        else:\n",
    "            print('Invalid pin !!')\n",
    "        self.menu()\n",
    "    \n",
    "    def check_balance(self):\n",
    "        user_pin = input('Enter your pin : ')\n",
    "        if user_pin == self.pin:\n",
    "            print('your balance is : ', self.balance)\n",
    "        else:\n",
    "            print('Invalid Pin !!')\n",
    "        self.menu()\n",
    "    def withdraw(self):\n",
    "        user_pin = input('Enter your pin : ')\n",
    "        if user_pin == self.pin:\n",
    "            amount = int(input('enter the amount : '))\n",
    "            if amount <= self.balance:\n",
    "                self.balance = self.balance - amount\n",
    "                print('Withdrawl successfull !! your balance is: ', self.balance)\n",
    "            else:\n",
    "                print('Insufficient Balance !!')\n",
    "        else:\n",
    "            print('Invalid Pin !!')\n",
    "        self.menu()\n",
    "\n",
    "        \n",
    "        \n",
    "        \n",
    "            \n",
    "\n",
    "    "
   ]
  },
  {
   "cell_type": "code",
   "execution_count": 3,
   "id": "2d804b9f",
   "metadata": {},
   "outputs": [
    {
     "name": "stdout",
     "output_type": "stream",
     "text": [
      "\n",
      "        Welcome to ATM \n",
      "        How can I help You ?\n",
      "        1. Press 1 to Create Pin\n",
      "        2. Press 2 To change Pin\n",
      "        3. Press 3 to Check Balance\n",
      "        4. Press 4 to withdrawal\n",
      "        5. Press any to Exit.\n",
      "        1\n",
      "Enter new pin : 1234\n",
      "Enter your Balance : 10000\n",
      "Pin created successfully !!\n",
      "\n",
      "        Welcome to ATM \n",
      "        How can I help You ?\n",
      "        1. Press 1 to Create Pin\n",
      "        2. Press 2 To change Pin\n",
      "        3. Press 3 to Check Balance\n",
      "        4. Press 4 to withdrawal\n",
      "        5. Press any to Exit.\n",
      "        2\n",
      "Enter your pin : 5678\n",
      "Invalid pin !!\n",
      "\n",
      "        Welcome to ATM \n",
      "        How can I help You ?\n",
      "        1. Press 1 to Create Pin\n",
      "        2. Press 2 To change Pin\n",
      "        3. Press 3 to Check Balance\n",
      "        4. Press 4 to withdrawal\n",
      "        5. Press any to Exit.\n",
      "        2\n",
      "Enter your pin : 1234\n",
      "Enter new pin : 5678\n",
      "Pin changed successfully !!\n",
      "\n",
      "        Welcome to ATM \n",
      "        How can I help You ?\n",
      "        1. Press 1 to Create Pin\n",
      "        2. Press 2 To change Pin\n",
      "        3. Press 3 to Check Balance\n",
      "        4. Press 4 to withdrawal\n",
      "        5. Press any to Exit.\n",
      "        3\n",
      "Enter your pin : 5678\n",
      "your balance is :  10000\n",
      "\n",
      "        Welcome to ATM \n",
      "        How can I help You ?\n",
      "        1. Press 1 to Create Pin\n",
      "        2. Press 2 To change Pin\n",
      "        3. Press 3 to Check Balance\n",
      "        4. Press 4 to withdrawal\n",
      "        5. Press any to Exit.\n",
      "        4\n",
      "Enter your pin : 5678\n",
      "enter the amount : 4000\n",
      "Withdrawl successfull !! your balance is:  6000\n",
      "\n",
      "        Welcome to ATM \n",
      "        How can I help You ?\n",
      "        1. Press 1 to Create Pin\n",
      "        2. Press 2 To change Pin\n",
      "        3. Press 3 to Check Balance\n",
      "        4. Press 4 to withdrawal\n",
      "        5. Press any to Exit.\n",
      "        3\n",
      "Enter your pin : 5678\n",
      "your balance is :  6000\n",
      "\n",
      "        Welcome to ATM \n",
      "        How can I help You ?\n",
      "        1. Press 1 to Create Pin\n",
      "        2. Press 2 To change Pin\n",
      "        3. Press 3 to Check Balance\n",
      "        4. Press 4 to withdrawal\n",
      "        5. Press any to Exit.\n",
      "        5\n"
     ]
    }
   ],
   "source": [
    "obj = Atm()"
   ]
  },
  {
   "cell_type": "markdown",
   "id": "a7fa72fb",
   "metadata": {},
   "source": [
    "# Function vs Method"
   ]
  },
  {
   "cell_type": "code",
   "execution_count": null,
   "id": "5fb4c033",
   "metadata": {},
   "outputs": [],
   "source": [
    "''' \n",
    "Diff between function and method\n",
    "\n",
    "if any function implemented inside the class then it is called as METHOD\n",
    "if any function independently exist outside the class then it is called FUNCTION\n",
    "\n",
    "agar koi function kisi class ke andar implimented hai use method aur \n",
    "koi function independently exist krta hai outside class use function kehate hai\n",
    "\n",
    "L = [1,2,3]\n",
    "len(L) ==>function bcz it is outside the list class\n",
    "L.append ==> method bcz it is inside the list class\n",
    "'''\n"
   ]
  },
  {
   "cell_type": "markdown",
   "id": "89300915",
   "metadata": {},
   "source": [
    "# Class Diagram"
   ]
  },
  {
   "cell_type": "code",
   "execution_count": 1,
   "id": "4944a124",
   "metadata": {},
   "outputs": [
    {
     "data": {
      "text/plain": [
       "'\\n|\\n|\\n|\\n|\\n|\\n|\\n|\\n|\\n|\\n|\\n|\\n'"
      ]
     },
     "execution_count": 1,
     "metadata": {},
     "output_type": "execute_result"
    }
   ],
   "source": [
    "'''\n",
    "________________________\n",
    "|       Atm            |  ===> Class \n",
    "|______________________|\n",
    "|     +/- pin          | ===> data/variable/attribute\n",
    "|     +  balance       |\n",
    "|______________________|\n",
    "|    - menu            |\n",
    "|    + create_pin      | ===> methods\n",
    "|    - change_pin      |      + --> Public  ( visible outside the class )\n",
    "|    + check_balance   |      - --> Private ( not visible outside the class)\n",
    "|      withdraw        |\n",
    "|______________________|\n",
    "\n",
    "'''"
   ]
  },
  {
   "cell_type": "markdown",
   "id": "c9f01f16",
   "metadata": {},
   "source": [
    "# Magic methods (Dunder method)"
   ]
  },
  {
   "cell_type": "code",
   "execution_count": null,
   "id": "cbc464b0",
   "metadata": {},
   "outputs": [],
   "source": [
    "''' \n",
    "__init__\n",
    "\n",
    "Constructor is a special method which having superpower \n",
    "--> no need to call it automatically trigger after object formation\n",
    "--> constructor is used to write configuration related code\n",
    "--> code which we dont want to rely on user or code of which user is not having a control\n",
    "--> we write a code in constructor which we dont want to give access or cotrol to user\n",
    "--> ex. to connect network before starting application, connect with database \n",
    "--> we cannot rename constructor\n",
    "\n",
    "\n",
    "'''"
   ]
  },
  {
   "cell_type": "markdown",
   "id": "3da707bc",
   "metadata": {},
   "source": [
    "# Self"
   ]
  },
  {
   "cell_type": "code",
   "execution_count": null,
   "id": "f1558be1",
   "metadata": {},
   "outputs": [],
   "source": [
    "'''\n",
    "\n",
    "--> Oop is having class and object\n",
    "    class : rules to which object follows \n",
    "            * attribute/ methods\n",
    "    Object : \n",
    "    \n",
    "    class ke andar ke jo data / functions un dono ko us class ka object access kr sakta hai\n",
    "    we cannot call balance in withdraw method for that we have to use self\n",
    "    \n",
    "--> Self is default parameter\n",
    "--> object and self are rely on same memory address means self is nothing but a current object\n",
    "--> self name is not necessorry we can give anything \n",
    "--> we need self to establish intraclass communication\n",
    "\n",
    "\n",
    "'''"
   ]
  },
  {
   "cell_type": "markdown",
   "id": "0e5a5278",
   "metadata": {},
   "source": [
    "# Own Datatype\n",
    "\n",
    "# 1. Fraction"
   ]
  },
  {
   "cell_type": "code",
   "execution_count": 11,
   "id": "f985f4f1",
   "metadata": {},
   "outputs": [],
   "source": [
    "class Fraction:\n",
    "    \n",
    "    def __init__(self,x,y):\n",
    "        self.num = x\n",
    "        self.den = y\n",
    "    def __str__(self):\n",
    "        return f'{self.num}/{self.den}'\n",
    "    \n",
    "    def __add__(self,other):\n",
    "        new_num = self.num*other.den + self.den*other.num\n",
    "        new_den = self.den*other.den\n",
    "        print(f'{new_num}/{new_den}')\n",
    "        \n",
    "    def __sub__(self,other):\n",
    "        new_num = self.num*other.den - self.den*other.num\n",
    "        new_den = self.den*other.den\n",
    "        print(f'{new_num}/{new_den}')\n",
    "    def __mul__(self,other):\n",
    "        new_num = self.num*other.num\n",
    "        new_den = self.den*other.den\n",
    "        print(f'{new_num}/{new_den}')\n",
    "    def __truediv__(self,other):\n",
    "        new_num = self.num*other.den\n",
    "        new_den = self.den*other.num\n",
    "        print(f'{new_num}/{new_den}')\n",
    "    def conversion(self):\n",
    "        print(self.num/self.den)\n",
    "        "
   ]
  },
  {
   "cell_type": "code",
   "execution_count": 12,
   "id": "3a731eb4",
   "metadata": {},
   "outputs": [],
   "source": [
    "fr1 = Fraction(3,4)\n",
    "fr2 = Fraction(1,2)"
   ]
  },
  {
   "cell_type": "code",
   "execution_count": 20,
   "id": "a812a72a",
   "metadata": {},
   "outputs": [
    {
     "name": "stdout",
     "output_type": "stream",
     "text": [
      "10/8\n",
      "2/8\n",
      "3/8\n",
      "6/4\n",
      "0.75\n"
     ]
    }
   ],
   "source": [
    "fr1+fr2\n",
    "fr1-fr2\n",
    "fr1*fr2\n",
    "fr1/fr2\n",
    "fr1.conversion()"
   ]
  },
  {
   "cell_type": "markdown",
   "id": "1b7857b5",
   "metadata": {},
   "source": [
    " ### Write OOP classes to handle the following scenarios:\n",
    "\n",
    "- A user can create and view 2D coordinates\n",
    "- A user can find out the distance between 2 coordinates\n",
    "- A user can find find the distance of a coordinate from origin\n",
    "- A user can check if a point lies on a given line\n",
    "- A user can find the distance between a given 2D point and a given line"
   ]
  },
  {
   "cell_type": "code",
   "execution_count": 1,
   "id": "e8318a06",
   "metadata": {},
   "outputs": [],
   "source": [
    "class Point:\n",
    "    def __init__(self,x,y):\n",
    "        self.x_cod = x\n",
    "        self.y_cod = y\n",
    "        \n",
    "    def __str__(self):\n",
    "        return f'<{self.x_cod},{self.y_cod}>'\n",
    "    \n",
    "    def euclidian_distance(self,other):\n",
    "#         formula : ((x1 - x2)**2 + (y1 - y2)**2)**0.5\n",
    "        return ((self.x_cod - other.x_cod)**2 + (self.y_cod - other.y_cod)**2)**0.5\n",
    "    \n",
    "    def distance_from_origine(self):\n",
    "#         formula : (x**2 + y**2)**0.5\n",
    "        return ((self.x_cod)**2+(self.y_cod)**2)**0.5\n",
    "#         return self.euclidian_distance(Point(0,0))\n",
    "    \n",
    "class Line:\n",
    "    def __init__(self,A,B,C):\n",
    "        self.A = A\n",
    "        self.B = B\n",
    "        self.C = C\n",
    "    def __str__(self):\n",
    "        return f'{self.A}x + {self.B}y + {self.C} = 0'\n",
    "    \n",
    "    def point_on_line(line,point):\n",
    "        if line.A*point.x_cod + line.B*point.y_cod + line.C == 0:\n",
    "            return  'Lies on the line'\n",
    "        else:\n",
    "            return \"does not lie on line\"\n",
    "    \n",
    "    def shortest_distance(line,point):\n",
    "        return abs((line.A*point.x_cod + line.B*point.y_cod + line.C)/(line.A**2 + line.B**2))**0.5\n",
    "        \n",
    "        \n",
    "    "
   ]
  },
  {
   "cell_type": "code",
   "execution_count": 3,
   "id": "973ae6bc",
   "metadata": {},
   "outputs": [
    {
     "name": "stdout",
     "output_type": "stream",
     "text": [
      "<1,1>\n",
      "<10,11>\n",
      "13.45362404707371\n",
      "1x + 1y + -2 = 0\n",
      "Lies on the line\n",
      "2x + 1y + 6 = 0\n",
      "does not lie on line\n",
      "1.3416407864998738\n"
     ]
    }
   ],
   "source": [
    "p1 = Point(1,1)\n",
    "p2 = Point(10,11)\n",
    "print(p1)\n",
    "print(p2)\n",
    "print(p1.euclidian_distance(p2))\n",
    "p1.distance_from_origine()\n",
    "\n",
    "l1 = Line(1,1,-2)\n",
    "print(l1)\n",
    "print(l1.point_on_line(p1))\n",
    "\n",
    "l2 = Line(2,1,6)\n",
    "print(l2)\n",
    "print(l2.point_on_line(p1))\n",
    "\n",
    "print(l2.shortest_distance(p1))"
   ]
  },
  {
   "cell_type": "markdown",
   "id": "f3644c50",
   "metadata": {},
   "source": [
    "# How to access attribute"
   ]
  },
  {
   "cell_type": "code",
   "execution_count": 1,
   "id": "614138ed",
   "metadata": {},
   "outputs": [],
   "source": [
    " class Person :\n",
    "        def __init__(self,name_input,country_input):\n",
    "            self.name = name_input\n",
    "            self.country = country_input\n",
    "            \n",
    "        def greet(self):\n",
    "            if self.country == 'India':\n",
    "                print('Namaste', self.name)\n",
    "            else:\n",
    "                print('Hello', self.name)"
   ]
  },
  {
   "cell_type": "code",
   "execution_count": 2,
   "id": "2a6f818a",
   "metadata": {},
   "outputs": [],
   "source": [
    "p = Person('Nitish','Africa')"
   ]
  },
  {
   "cell_type": "code",
   "execution_count": 4,
   "id": "ff5b4dbb",
   "metadata": {},
   "outputs": [
    {
     "name": "stdout",
     "output_type": "stream",
     "text": [
      "Hello Nitish\n"
     ]
    }
   ],
   "source": [
    "p.greet()"
   ]
  },
  {
   "cell_type": "code",
   "execution_count": 5,
   "id": "c17beb22",
   "metadata": {},
   "outputs": [
    {
     "ename": "AttributeError",
     "evalue": "'Person' object has no attribute 'gender'",
     "output_type": "error",
     "traceback": [
      "\u001b[1;31m---------------------------------------------------------------------------\u001b[0m",
      "\u001b[1;31mAttributeError\u001b[0m                            Traceback (most recent call last)",
      "\u001b[1;32m~\\AppData\\Local\\Temp\\ipykernel_5972\\599345415.py\u001b[0m in \u001b[0;36m<module>\u001b[1;34m\u001b[0m\n\u001b[1;32m----> 1\u001b[1;33m \u001b[0mp\u001b[0m\u001b[1;33m.\u001b[0m\u001b[0mgender\u001b[0m\u001b[1;33m\u001b[0m\u001b[1;33m\u001b[0m\u001b[0m\n\u001b[0m",
      "\u001b[1;31mAttributeError\u001b[0m: 'Person' object has no attribute 'gender'"
     ]
    }
   ],
   "source": [
    "p.gender"
   ]
  },
  {
   "cell_type": "code",
   "execution_count": 6,
   "id": "448693db",
   "metadata": {},
   "outputs": [],
   "source": [
    "p.gender = 'male'"
   ]
  },
  {
   "cell_type": "code",
   "execution_count": 7,
   "id": "89faf18f",
   "metadata": {},
   "outputs": [
    {
     "data": {
      "text/plain": [
       "'male'"
      ]
     },
     "execution_count": 7,
     "metadata": {},
     "output_type": "execute_result"
    }
   ],
   "source": [
    "p.gender"
   ]
  },
  {
   "cell_type": "markdown",
   "id": "b51d236a",
   "metadata": {},
   "source": [
    "# Reference Variable"
   ]
  },
  {
   "cell_type": "markdown",
   "id": "19d596e1",
   "metadata": {},
   "source": [
    "#### 1. p is not an object p is reference variable which containce the reference / address of the object that has been created\n",
    "#### 2. we can create objects without reference variable as well\n",
    "#### 3. an object can have multiple refereence variable\n",
    "#### 4. assigning a new refernce variable to an existing object does not create a new object"
   ]
  },
  {
   "cell_type": "code",
   "execution_count": 21,
   "id": "313d58fd",
   "metadata": {},
   "outputs": [],
   "source": [
    "class Person:\n",
    "    def __init__(self):\n",
    "        self.name = 'nitish'\n",
    "        self.gender = 'male'\n",
    "\n",
    "        \n",
    "# outside the class\n",
    "Person()\n",
    "p = Person()\n",
    "q = p\n"
   ]
  },
  {
   "cell_type": "code",
   "execution_count": 22,
   "id": "72ba80f9",
   "metadata": {},
   "outputs": [
    {
     "name": "stdout",
     "output_type": "stream",
     "text": [
      "nitish\n",
      "nitish\n"
     ]
    }
   ],
   "source": [
    "print(p.name)\n",
    "print(q.name)\n"
   ]
  },
  {
   "cell_type": "code",
   "execution_count": 23,
   "id": "105d8d22",
   "metadata": {},
   "outputs": [
    {
     "name": "stdout",
     "output_type": "stream",
     "text": [
      "Ankit\n",
      "Ankit\n"
     ]
    }
   ],
   "source": [
    "q.name = 'Ankit'\n",
    "print(p.name)\n",
    "print(q.name)"
   ]
  },
  {
   "cell_type": "markdown",
   "id": "79de1d43",
   "metadata": {},
   "source": [
    "# Pass by Reference"
   ]
  },
  {
   "cell_type": "code",
   "execution_count": 30,
   "id": "f75f3282",
   "metadata": {},
   "outputs": [
    {
     "name": "stdout",
     "output_type": "stream",
     "text": [
      "Hi my name is nitish  and i am a male\n",
      "ankit\n",
      "male\n"
     ]
    }
   ],
   "source": [
    "class Person:\n",
    "    def __init__(self,name,gender):\n",
    "        self.name = name\n",
    "        self.gender = gender\n",
    "        \n",
    "# outside the class\n",
    "def greet(person):\n",
    "    print('Hi my name is', person.name,' and i am a', person.gender)\n",
    "    p1 = Person('ankit','male')\n",
    "    return p1\n",
    "    \n",
    "p = Person('nitish','male')\n",
    "x = greet(p)\n",
    "\n",
    "print(x.name)\n",
    "print(x.gender)\n",
    "        "
   ]
  },
  {
   "cell_type": "code",
   "execution_count": null,
   "id": "0dd76ae4",
   "metadata": {},
   "outputs": [],
   "source": [
    "class Person:\n",
    "    def __init__(self,name,gender):\n",
    "        self.name = name\n",
    "        self.gender = gender\n",
    "        \n",
    "# outside the class\n",
    "def greet(person):\n",
    "    print('Hi my name is', person.name,' and i am a', person.gender)\n",
    "\n",
    "    \n",
    "p = Person('nitish','male')\n",
    "greet(p)\n",
    "\n",
    "        "
   ]
  },
  {
   "cell_type": "code",
   "execution_count": 5,
   "id": "e66a9531",
   "metadata": {},
   "outputs": [
    {
     "name": "stdout",
     "output_type": "stream",
     "text": [
      "Hello\n"
     ]
    }
   ],
   "source": [
    "class Atm:\n",
    "#     __init__ is constructor is a special method jiske andar ka code automatically \n",
    "#     execute ho jata hai jaise hi aap is class ka object banate ho\n",
    "    \n",
    "    def __init__(self):         \n",
    "\n",
    "        \n",
    "        print(\"Hello\")\n",
    "\n",
    "        \n",
    "    def menu(self):\n",
    "        pass\n",
    "    \n",
    "\n",
    "sbi=Atm()"
   ]
  },
  {
   "cell_type": "code",
   "execution_count": 1,
   "id": "02cd8a02",
   "metadata": {},
   "outputs": [
    {
     "name": "stdout",
     "output_type": "stream",
     "text": [
      "\n",
      "        Hello, how would you like to proceed?\n",
      "        1.Enter 1 to create pin\n",
      "        2.Enter 2 to deposite\n",
      "        3.Enter 3 to withdraw\n",
      "        4.Enter 4 to check balance\n",
      "        5.enter 5 for Exit\n",
      "        4\n",
      "check balance\n"
     ]
    }
   ],
   "source": [
    "class Atm:\n",
    "    def __init__(self):         \n",
    "\n",
    "        \n",
    "        self.pin=\"\"\n",
    "        self.balance=0\n",
    "        \n",
    "        self.menu()\n",
    "        \n",
    "    def menu(self):\n",
    "        user_input = input('''\n",
    "        Hello, how would you like to proceed?\n",
    "        1.Enter 1 to create pin\n",
    "        2.Enter 2 to deposite\n",
    "        3.Enter 3 to withdraw\n",
    "        4.Enter 4 to check balance\n",
    "        5.enter 5 for Exit\n",
    "        ''')\n",
    "        if user_input==\"1\":\n",
    "            print(\"Create pin\")\n",
    "        elif user_input==\"2\":\n",
    "            print(\"deposite\")\n",
    "        elif user_input==\"3\":\n",
    "            print(\"withdraw\")\n",
    "        elif user_input==\"4\":\n",
    "            print(\"check balance\")\n",
    "        else:\n",
    "            print(\"Bye\")\n",
    "            \n",
    "            \n",
    " \n",
    "sbi=Atm()"
   ]
  },
  {
   "cell_type": "code",
   "execution_count": 17,
   "id": "a8de42a5",
   "metadata": {},
   "outputs": [],
   "source": [
    "class Atm:\n",
    "    def __init__(self):         \n",
    "\n",
    "        \n",
    "        self.__pin=\"\"\n",
    "        self.__balance=0\n",
    "        \n",
    "        self.menu()\n",
    "        \n",
    "    def menu(self):\n",
    "        user_input = input('''\n",
    "        Hello, how would you like to proceed?\n",
    "        1.Enter 1 to create pin\n",
    "        2.Enter 2 to deposite\n",
    "        3.Enter 3 to withdraw\n",
    "        4.Enter 4 to check balance\n",
    "        5.enter 5 for Exit\n",
    "        ''')\n",
    "        if user_input==\"1\":\n",
    "            self.create_pin()\n",
    "        elif user_input==\"2\":\n",
    "            self.deposite()\n",
    "        elif user_input==\"3\":\n",
    "            self.withdraw\n",
    "        elif user_input==\"4\":\n",
    "            self.check_balance()\n",
    "        else:\n",
    "            print(\"Bye\")\n",
    "            \n",
    "            \n",
    "    def create_pin(self):\n",
    "        self.__pin=input(\"Enter your pin\")\n",
    "        print(\"Pin set successfully\")\n",
    "        \n",
    "    def deposite(self):\n",
    "        temp=input(\"Enter your Pin\")\n",
    "        if temp==self.__pin:\n",
    "            amount=int(input(\"Enter the amount: \"))\n",
    "            self.__balance=self.__balance + amount\n",
    "            print(\"Deposite Succefull !!\")\n",
    "        else:\n",
    "            print(\"Invalid Pin\")\n",
    "    \n",
    "    def withdraw(self):\n",
    "        temp=input(\"Enter your pin\")\n",
    "        if temp==self.__pin:\n",
    "            amount=int(input(\"Enter the amount: \"))\n",
    "            if amount<self.__balance:\n",
    "                self.__balance=self.__balance - amount\n",
    "                print(\"Operation Successful !!\")\n",
    "            else:\n",
    "                print(\"Insufficient Funds !!!\")\n",
    "                \n",
    "        else:\n",
    "            print(\"Invalid pin \")\n",
    "            \n",
    "    def check_balance(self):\n",
    "        temp=input(\"Enter your pin\")\n",
    "        if temp==self.__pin:\n",
    "            print(self.__balance)\n",
    "        else:\n",
    "            print(\"Invalid pin !!\")\n",
    "        \n",
    "    \n"
   ]
  },
  {
   "cell_type": "code",
   "execution_count": 16,
   "id": "84dbe31c",
   "metadata": {},
   "outputs": [
    {
     "name": "stdout",
     "output_type": "stream",
     "text": [
      "\n",
      "        Hello, how would you like to proceed?\n",
      "        1.Enter 1 to create pin\n",
      "        2.Enter 2 to deposite\n",
      "        3.Enter 3 to withdraw\n",
      "        4.Enter 4 to check balance\n",
      "        5.enter 5 for Exit\n",
      "        1\n",
      "Enter your pin421001\n",
      "Pin set successfully\n"
     ]
    }
   ],
   "source": [
    "sbi = Atm()"
   ]
  },
  {
   "cell_type": "code",
   "execution_count": 17,
   "id": "0da75588",
   "metadata": {},
   "outputs": [
    {
     "name": "stdout",
     "output_type": "stream",
     "text": [
      "Enter your Pin421001\n",
      "Enter the amount: 50000\n",
      "Deposite Succefull !!\n"
     ]
    }
   ],
   "source": [
    "sbi.deposite()"
   ]
  },
  {
   "cell_type": "code",
   "execution_count": 26,
   "id": "6296a4bc",
   "metadata": {},
   "outputs": [],
   "source": [
    "sbi.__balance=\"ksjkhaksdj\" "
   ]
  },
  {
   "cell_type": "code",
   "execution_count": 27,
   "id": "ca6471f6",
   "metadata": {},
   "outputs": [
    {
     "name": "stdout",
     "output_type": "stream",
     "text": [
      "Enter your Pin421001\n",
      "Enter the amount: 45000\n",
      "Deposite Succefull !!\n"
     ]
    }
   ],
   "source": [
    "sbi.deposite()\n"
   ]
  },
  {
   "cell_type": "code",
   "execution_count": 28,
   "id": "3f6b9c3d",
   "metadata": {},
   "outputs": [
    {
     "name": "stdout",
     "output_type": "stream",
     "text": [
      "Enter your pin421001\n",
      "95000\n"
     ]
    }
   ],
   "source": [
    "sbi.check_balance()"
   ]
  },
  {
   "cell_type": "code",
   "execution_count": 18,
   "id": "0808e9e2",
   "metadata": {},
   "outputs": [
    {
     "name": "stdout",
     "output_type": "stream",
     "text": [
      "Enter your Pin421001\n",
      "Enter the amount: 25000\n",
      "Deposite Succefull !!\n"
     ]
    }
   ],
   "source": [
    "sbi.deposite()"
   ]
  },
  {
   "cell_type": "code",
   "execution_count": 19,
   "id": "54f1617c",
   "metadata": {},
   "outputs": [
    {
     "name": "stdout",
     "output_type": "stream",
     "text": [
      "Enter your pin421001\n",
      "75000\n"
     ]
    }
   ],
   "source": [
    "sbi.check_balance()"
   ]
  },
  {
   "cell_type": "code",
   "execution_count": 20,
   "id": "f5a7927e",
   "metadata": {},
   "outputs": [
    {
     "name": "stdout",
     "output_type": "stream",
     "text": [
      "Enter your pin421001\n",
      "Enter the amount: 25000\n",
      "Operation Successful !!\n"
     ]
    }
   ],
   "source": [
    "sbi.withdraw()"
   ]
  },
  {
   "cell_type": "code",
   "execution_count": 21,
   "id": "c1bee3a1",
   "metadata": {},
   "outputs": [
    {
     "name": "stdout",
     "output_type": "stream",
     "text": [
      "Enter your pin421001\n",
      "50000\n"
     ]
    }
   ],
   "source": [
    "sbi.check_balance()"
   ]
  },
  {
   "cell_type": "code",
   "execution_count": 22,
   "id": "0753ab01",
   "metadata": {},
   "outputs": [
    {
     "name": "stdout",
     "output_type": "stream",
     "text": [
      "\n",
      "        Hello, how would you like to proceed?\n",
      "        1.Enter 1 to create pin\n",
      "        2.Enter 2 to deposite\n",
      "        3.Enter 3 to withdraw\n",
      "        4.Enter 4 to check balance\n",
      "        5.enter 5 for Exit\n",
      "        1\n",
      "Enter your pin123456\n",
      "Pin set successfully\n"
     ]
    }
   ],
   "source": [
    "hdfc=Atm()"
   ]
  },
  {
   "cell_type": "code",
   "execution_count": 23,
   "id": "a525c1fc",
   "metadata": {},
   "outputs": [
    {
     "name": "stdout",
     "output_type": "stream",
     "text": [
      "Enter your pin123456\n",
      "0\n"
     ]
    }
   ],
   "source": [
    "hdfc.check_balance()"
   ]
  },
  {
   "cell_type": "code",
   "execution_count": 26,
   "id": "9cb7afd2",
   "metadata": {},
   "outputs": [
    {
     "name": "stdout",
     "output_type": "stream",
     "text": [
      "Enter your Pin123456\n",
      "Enter the amount: 0\n",
      "Deposite Succefull !!\n"
     ]
    }
   ],
   "source": [
    "hdfc.deposite()"
   ]
  },
  {
   "cell_type": "code",
   "execution_count": 27,
   "id": "fc24b0bf",
   "metadata": {},
   "outputs": [
    {
     "name": "stdout",
     "output_type": "stream",
     "text": [
      "Enter your pin123456\n",
      "2000\n"
     ]
    }
   ],
   "source": [
    "hdfc.check_balance()"
   ]
  },
  {
   "cell_type": "code",
   "execution_count": 28,
   "id": "dcba020e",
   "metadata": {},
   "outputs": [
    {
     "name": "stdout",
     "output_type": "stream",
     "text": [
      "Enter your pin123456\n",
      "Enter the amount: 510\n",
      "Operation Successful !!\n"
     ]
    }
   ],
   "source": [
    "hdfc.withdraw()"
   ]
  },
  {
   "cell_type": "code",
   "execution_count": 31,
   "id": "ca95fd9b",
   "metadata": {},
   "outputs": [
    {
     "name": "stdout",
     "output_type": "stream",
     "text": [
      "Enter your pin123456\n",
      "1490\n"
     ]
    }
   ],
   "source": [
    "hdfc.check_balance()"
   ]
  },
  {
   "cell_type": "code",
   "execution_count": null,
   "id": "3bcaa6b6",
   "metadata": {},
   "outputs": [],
   "source": [
    "# utility of constructor method?\n",
    "# constructors control would not be at user.user cant call constructor.\n",
    "# we write that code in constructor that we dont want to ask to user ex. conectivity to net\n",
    "# (self): \n",
    "#     id(self) == id(sbi) == id(hdfc)\n",
    "\n",
    "#ek class ka ek method ko us clas ka dusra method bhi acces nahi kr sakta bcz is class \n",
    "# ke method ko acces krneaka power sir4f us class ke object ke pass hai\n",
    "# __init__ wants to call menu but he cant accesss directly.\n",
    "# we can accesss by object i.e sbi\n"
   ]
  },
  {
   "cell_type": "code",
   "execution_count": 32,
   "id": "21d13cfc",
   "metadata": {},
   "outputs": [
    {
     "name": "stdout",
     "output_type": "stream",
     "text": [
      "Enter your pin123456\n",
      "Enter the amount: 369\n",
      "Operation Successful !!\n"
     ]
    }
   ],
   "source": [
    "hdfc.withdraw()"
   ]
  },
  {
   "cell_type": "code",
   "execution_count": 33,
   "id": "afc46685",
   "metadata": {},
   "outputs": [
    {
     "name": "stdout",
     "output_type": "stream",
     "text": [
      "Enter your pin123456\n",
      "1121\n"
     ]
    }
   ],
   "source": [
    "hdfc.check_balance()"
   ]
  },
  {
   "cell_type": "code",
   "execution_count": 35,
   "id": "fe733f00",
   "metadata": {},
   "outputs": [],
   "source": [
    "sbi=Atm"
   ]
  },
  {
   "cell_type": "code",
   "execution_count": 36,
   "id": "1ed667f4",
   "metadata": {},
   "outputs": [
    {
     "ename": "TypeError",
     "evalue": "create_pin() missing 1 required positional argument: 'self'",
     "output_type": "error",
     "traceback": [
      "\u001b[1;31m---------------------------------------------------------------------------\u001b[0m",
      "\u001b[1;31mTypeError\u001b[0m                                 Traceback (most recent call last)",
      "\u001b[1;32m~\\AppData\\Local\\Temp\\ipykernel_20700\\3380157708.py\u001b[0m in \u001b[0;36m<module>\u001b[1;34m\u001b[0m\n\u001b[1;32m----> 1\u001b[1;33m \u001b[0msbi\u001b[0m\u001b[1;33m.\u001b[0m\u001b[0mcreate_pin\u001b[0m\u001b[1;33m(\u001b[0m\u001b[1;33m)\u001b[0m\u001b[1;33m\u001b[0m\u001b[1;33m\u001b[0m\u001b[0m\n\u001b[0m",
      "\u001b[1;31mTypeError\u001b[0m: create_pin() missing 1 required positional argument: 'self'"
     ]
    }
   ],
   "source": [
    "sbi.create_pin()"
   ]
  },
  {
   "cell_type": "code",
   "execution_count": 38,
   "id": "7a574121",
   "metadata": {},
   "outputs": [
    {
     "name": "stdout",
     "output_type": "stream",
     "text": [
      "\n",
      "        Hello, how would you like to proceed?\n",
      "        1.Enter 1 to create pin\n",
      "        2.Enter 2 to deposite\n",
      "        3.Enter 3 to withdraw\n",
      "        4.Enter 4 to check balance\n",
      "        5.enter 5 for Exit\n",
      "        1\n",
      "Enter your pin1234\n",
      "Pin set successfully\n"
     ]
    }
   ],
   "source": [
    "sbi = Atm()"
   ]
  },
  {
   "cell_type": "code",
   "execution_count": 39,
   "id": "44c904c5",
   "metadata": {},
   "outputs": [
    {
     "name": "stdout",
     "output_type": "stream",
     "text": [
      "Enter your Pin1234\n",
      "Enter the amount: 2000\n",
      "Deposite Succefull !!\n"
     ]
    }
   ],
   "source": [
    "sbi.deposite()"
   ]
  },
  {
   "cell_type": "code",
   "execution_count": 40,
   "id": "434447ab",
   "metadata": {},
   "outputs": [
    {
     "name": "stdout",
     "output_type": "stream",
     "text": [
      "Enter your pin1234\n",
      "2000\n"
     ]
    }
   ],
   "source": [
    "sbi.check_balance()"
   ]
  },
  {
   "cell_type": "code",
   "execution_count": 41,
   "id": "298df7a6",
   "metadata": {},
   "outputs": [
    {
     "name": "stdout",
     "output_type": "stream",
     "text": [
      "Enter your pin1234\n",
      "Enter the amount: 500\n",
      "Operation Successful !!\n"
     ]
    }
   ],
   "source": [
    "sbi.withdraw()"
   ]
  },
  {
   "cell_type": "code",
   "execution_count": 42,
   "id": "e87df4fb",
   "metadata": {},
   "outputs": [
    {
     "name": "stdout",
     "output_type": "stream",
     "text": [
      "Enter your pin1234\n",
      "1500\n"
     ]
    }
   ],
   "source": [
    "sbi.check_balance()"
   ]
  },
  {
   "cell_type": "markdown",
   "id": "3155f78e",
   "metadata": {},
   "source": [
    "## Fraction Datatype"
   ]
  },
  {
   "cell_type": "code",
   "execution_count": 52,
   "id": "62fc8cd3",
   "metadata": {},
   "outputs": [],
   "source": [
    "class Fraction:\n",
    "    def __init__(self,n,d):\n",
    "        self.num=n\n",
    "        self.den=d\n",
    "        \n",
    "    def __str__(self):\n",
    "        return \"{}/{}\".format(self.num,self.den)\n",
    "    "
   ]
  },
  {
   "cell_type": "code",
   "execution_count": 56,
   "id": "07b58be5",
   "metadata": {},
   "outputs": [
    {
     "name": "stdout",
     "output_type": "stream",
     "text": [
      "4/5\n"
     ]
    }
   ],
   "source": [
    "x=Fraction(4,5)\n",
    "print(x)"
   ]
  },
  {
   "cell_type": "code",
   "execution_count": 2,
   "id": "4f0a520f",
   "metadata": {},
   "outputs": [],
   "source": [
    "class Fraction:\n",
    "    def __init__(self,n,d):\n",
    "        self.num=n\n",
    "        self.den=d\n",
    "        \n",
    "    def __str__(self):\n",
    "        return \"{}/{}\".format(self.num,self.den)\n",
    "    \n",
    "    def __add__(self,other): # self ke liye alag num and den aur other ke liye alag num and den\n",
    "        temp_num=self.num*other.den + other.num*self.den\n",
    "        temp_den=self.den*other.den\n",
    "        \n",
    "        return \"{}/{}\".format(temp_num,temp_den)\n",
    "\n",
    "    def __sub__(self,other): # self ke liye alag num and den aur other ke liye alag num and den\n",
    "        temp_num=self.num*other.den - other.num*self.den\n",
    "        temp_den=self.den*other.den\n",
    "        return \"{}/{}\".format(temp_num,temp_den)\n",
    "    \n",
    "    def __mul__(self,other): # self ke liye alag num and den aur other ke liye alag num and den\n",
    "        temp_num=self.num*other.num \n",
    "        temp_den=self.den*other.den\n",
    "        \n",
    "        return \"{}/{}\".format(temp_num,temp_den)\n",
    "    def __truediv__(self,other): # self ke liye alag num and den aur other ke liye alag num and den\n",
    "        temp_num=self.num*other.den  \n",
    "        temp_den=self.den*other.num\n",
    "        \n",
    "        return \"{}/{}\".format(temp_num,temp_den)"
   ]
  },
  {
   "cell_type": "code",
   "execution_count": 72,
   "id": "7289962d",
   "metadata": {},
   "outputs": [
    {
     "name": "stdout",
     "output_type": "stream",
     "text": [
      "4/5\n",
      "3/2\n"
     ]
    }
   ],
   "source": [
    "x=Fraction(4,5)\n",
    "y=Fraction(3,2)\n",
    "print(x)\n",
    "print(y)"
   ]
  },
  {
   "cell_type": "code",
   "execution_count": 73,
   "id": "a0bf9c6d",
   "metadata": {},
   "outputs": [
    {
     "name": "stdout",
     "output_type": "stream",
     "text": [
      "23/10\n",
      "-7/10\n",
      "12/10\n",
      "8/15\n"
     ]
    }
   ],
   "source": [
    "print(x+y)\n",
    "print(x-y)\n",
    "print(x*y)\n",
    "print(x/y)"
   ]
  },
  {
   "cell_type": "markdown",
   "id": "6710e80e",
   "metadata": {},
   "source": [
    "# link for magic methods"
   ]
  },
  {
   "cell_type": "code",
   "execution_count": null,
   "id": "2ba06307",
   "metadata": {},
   "outputs": [],
   "source": [
    "https://www.tutorialsteacher.com/python/magic-methods-in-python"
   ]
  },
  {
   "cell_type": "code",
   "execution_count": null,
   "id": "59433f1b",
   "metadata": {},
   "outputs": [],
   "source": [
    "# instance variable : jo bhi variable ko aap constructor ke andar bvanate ho uno instance variable kehate hai \n",
    "# because inka value har object keliye alag hota hai\n",
    "#  it is a kind of variable for which the value of variable is diff for diff objects"
   ]
  },
  {
   "cell_type": "markdown",
   "id": "56253ce0",
   "metadata": {},
   "source": [
    "# encapsulation "
   ]
  },
  {
   "cell_type": "code",
   "execution_count": 23,
   "id": "6bd220a4",
   "metadata": {},
   "outputs": [],
   "source": [
    "sbi.__balance=\"ksjkhaksdj\""
   ]
  },
  {
   "cell_type": "code",
   "execution_count": 24,
   "id": "2f528dff",
   "metadata": {},
   "outputs": [
    {
     "name": "stdout",
     "output_type": "stream",
     "text": [
      "Enter your Pin421001\n",
      "Enter the amount: 50000\n",
      "Deposite Succefull !!\n"
     ]
    }
   ],
   "source": [
    "sbi.deposite()"
   ]
  },
  {
   "cell_type": "code",
   "execution_count": 25,
   "id": "ae5d0e9b",
   "metadata": {},
   "outputs": [
    {
     "name": "stdout",
     "output_type": "stream",
     "text": [
      "Enter your pin421001\n",
      "50000\n"
     ]
    }
   ],
   "source": [
    "sbi.deposite()\n",
    "sbi.check_balance()"
   ]
  },
  {
   "cell_type": "code",
   "execution_count": null,
   "id": "16662f29",
   "metadata": {},
   "outputs": [],
   "source": [
    "# Nothing is truly private in python because python is for adult"
   ]
  },
  {
   "cell_type": "code",
   "execution_count": null,
   "id": "3f4065f3",
   "metadata": {},
   "outputs": [],
   "source": []
  },
  {
   "cell_type": "code",
   "execution_count": 55,
   "id": "7703f727",
   "metadata": {},
   "outputs": [],
   "source": [
    "class Atm:\n",
    "    def __init__(self):         \n",
    "\n",
    "        \n",
    "        self.__pin=\"\"\n",
    "        self.__balance=0\n",
    "        \n",
    "        self.menu()\n",
    "# first converted in private attribute then get and set methods are encapsulation one data member in multiple object \n",
    "\n",
    "    def get_pin(self):\n",
    "        return self.__pin\n",
    "    \n",
    "    def set_pin(self, new_pin):\n",
    "        if type(new_pin)==str:     \n",
    "            self.__pin = new_pin\n",
    "            print(\"Pin Changed\")\n",
    "        else:\n",
    "            print(\"Not allowed\")\n",
    "        \n",
    "    def menu(self):\n",
    "        user_input = input('''\n",
    "        Hello, how would you like to proceed?\n",
    "        1.Enter 1 to create pin\n",
    "        2.Enter 2 to deposite\n",
    "        3.Enter 3 to withdraw\n",
    "        4.Enter 4 to check balance\n",
    "        5.enter 5 for Exit\n",
    "        ''')\n",
    "        if user_input==\"1\":\n",
    "            self.create_pin()\n",
    "        elif user_input==\"2\":\n",
    "            self.deposite()\n",
    "        elif user_input==\"3\":\n",
    "            self.withdraw\n",
    "        elif user_input==\"4\":\n",
    "            self.check_balance()\n",
    "        else:\n",
    "            print(\"Bye\")\n",
    "            \n",
    "            \n",
    "    def create_pin(self):\n",
    "        self.__pin=input(\"Enter your pin\")\n",
    "        print(\"Pin set successfully\")\n",
    "        \n",
    "    def deposite(self):\n",
    "        temp=input(\"Enter your Pin\")\n",
    "        if temp==self.__pin:\n",
    "            amount=int(input(\"Enter the amount: \"))\n",
    "            self.__balance=self.__balance + amount\n",
    "            print(\"Deposite Succefull !!\")\n",
    "        else:\n",
    "            print(\"Invalid Pin\")\n",
    "    \n",
    "    def withdraw(self):\n",
    "        temp=input(\"Enter your pin\")\n",
    "        if temp==self.__pin:\n",
    "            amount=int(input(\"Enter the amount: \"))\n",
    "            if amount<self.__balance:\n",
    "                self.__balance=self.__balance - amount\n",
    "                print(\"Operation Successful !!\")\n",
    "            else:\n",
    "                print(\"Insufficient Funds !!!\")\n",
    "                \n",
    "        else:\n",
    "            print(\"Invalid pin \")\n",
    "            \n",
    "    def check_balance(self):\n",
    "        temp=input(\"Enter your pin\")\n",
    "        if temp==self.__pin:\n",
    "            print(self.__balance)\n",
    "        else:\n",
    "            print(\"Invalid pin !!\")\n",
    "        \n",
    "    \n"
   ]
  },
  {
   "cell_type": "code",
   "execution_count": 56,
   "id": "1d7ccec4",
   "metadata": {},
   "outputs": [
    {
     "name": "stdout",
     "output_type": "stream",
     "text": [
      "\n",
      "        Hello, how would you like to proceed?\n",
      "        1.Enter 1 to create pin\n",
      "        2.Enter 2 to deposite\n",
      "        3.Enter 3 to withdraw\n",
      "        4.Enter 4 to check balance\n",
      "        5.enter 5 for Exit\n",
      "        1\n",
      "Enter your pin1234\n",
      "Pin set successfully\n"
     ]
    }
   ],
   "source": [
    "sbi=Atm()"
   ]
  },
  {
   "cell_type": "code",
   "execution_count": 57,
   "id": "f136beda",
   "metadata": {},
   "outputs": [
    {
     "data": {
      "text/plain": [
       "'1234'"
      ]
     },
     "execution_count": 57,
     "metadata": {},
     "output_type": "execute_result"
    }
   ],
   "source": [
    "sbi.get_pin()"
   ]
  },
  {
   "cell_type": "code",
   "execution_count": 58,
   "id": "1889130b",
   "metadata": {},
   "outputs": [
    {
     "name": "stdout",
     "output_type": "stream",
     "text": [
      "Pin Changed\n"
     ]
    }
   ],
   "source": [
    "sbi.set_pin('421001')"
   ]
  },
  {
   "cell_type": "code",
   "execution_count": 59,
   "id": "ed57673a",
   "metadata": {},
   "outputs": [
    {
     "data": {
      "text/plain": [
       "'421001'"
      ]
     },
     "execution_count": 59,
     "metadata": {},
     "output_type": "execute_result"
    }
   ],
   "source": [
    "sbi.get_pin()"
   ]
  },
  {
   "cell_type": "code",
   "execution_count": 60,
   "id": "e4039b54",
   "metadata": {},
   "outputs": [
    {
     "name": "stdout",
     "output_type": "stream",
     "text": [
      "Not allowed\n"
     ]
    }
   ],
   "source": [
    "sbi.set_pin(5.6)"
   ]
  }
 ],
 "metadata": {
  "kernelspec": {
   "display_name": "Python 3 (ipykernel)",
   "language": "python",
   "name": "python3"
  },
  "language_info": {
   "codemirror_mode": {
    "name": "ipython",
    "version": 3
   },
   "file_extension": ".py",
   "mimetype": "text/x-python",
   "name": "python",
   "nbconvert_exporter": "python",
   "pygments_lexer": "ipython3",
   "version": "3.9.13"
  }
 },
 "nbformat": 4,
 "nbformat_minor": 5
}
